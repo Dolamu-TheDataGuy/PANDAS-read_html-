{
 "cells": [
  {
   "cell_type": "markdown",
   "metadata": {},
   "source": [
    "## WEBSCRAPING WITH Pandas `read_html()`"
   ]
  },
  {
   "cell_type": "markdown",
   "metadata": {},
   "source": [
    "Web Scraping is the extraction of data information from a website, web scraping is a very important skill in the field of Data Science and other interdisciplinary fields Such as Engineering, Business, and Finance. In this note book we would be scraping information from the [DATA SCIENCE NIGERIA (DSN) Website](https://www.datasciencenigeria.org/2019candidates/) using the famous pandas library."
   ]
  },
  {
   "cell_type": "markdown",
   "metadata": {},
   "source": [
    "#### IMPORTING LIBRARIES"
   ]
  },
  {
   "cell_type": "code",
   "execution_count": 1,
   "metadata": {
    "scrolled": true
   },
   "outputs": [],
   "source": [
    "import pandas as pd\n",
    "import numpy as np"
   ]
  },
  {
   "cell_type": "code",
   "execution_count": 2,
   "metadata": {},
   "outputs": [],
   "source": [
    "url = \"https://www.datasciencenigeria.org/2019candidates\""
   ]
  },
  {
   "cell_type": "code",
   "execution_count": 3,
   "metadata": {},
   "outputs": [],
   "source": [
    "table = pd.read_html(url, header= 0)"
   ]
  },
  {
   "cell_type": "code",
   "execution_count": 4,
   "metadata": {},
   "outputs": [
    {
     "data": {
      "text/plain": [
       "list"
      ]
     },
     "execution_count": 4,
     "metadata": {},
     "output_type": "execute_result"
    }
   ],
   "source": [
    "type(table)"
   ]
  },
  {
   "cell_type": "code",
   "execution_count": 5,
   "metadata": {},
   "outputs": [
    {
     "data": {
      "text/plain": [
       "[     S/N                      Full Name DSN Registration No  \\\n",
       " 0      1            Yakubu Jafar Ahmadu   DSN/AIB/2019/R001   \n",
       " 1      2                  Kazeem Hakeem   DSN/AIB/2019/R002   \n",
       " 2      3            Oshingbesan Adebayo   DSN/AIB/2019/R003   \n",
       " 3      4                Ibrahim Olagoke   DSN/AIB/2019/R004   \n",
       " 4      5                   Sarah Adigwe   DSN/AIB/2019/R006   \n",
       " ..   ...                            ...                 ...   \n",
       " 223  224              Odubela Oluwatobi  DSN/AIB/2019/EF420   \n",
       " 224  225                  Joy Nwachukwu  DSN/AIB/2019/EF423   \n",
       " 225  226                Memunat Ibrahim  DSN/AIB/2019/EF467   \n",
       " 226  227             Ezefili Prisca Joy  DSN/AIB/2019/EF500   \n",
       " 227  228  Chinazo Marykyrian Anebelundu  DSN/AIB/2019/EF508   \n",
       " \n",
       "                                       School/Workplace  \n",
       " 0                       Ahmadu Bello University, Zaria  \n",
       " 1                                    Crown Interactive  \n",
       " 2                                                  NaN  \n",
       " 3                                               Tissec  \n",
       " 4    Ladoke Akintola University Of Technology, Ogbo...  \n",
       " ..                                                 ...  \n",
       " 223                                University Of Lagos  \n",
       " 224                                            Mpharma  \n",
       " 225                        Multiskills Nigeria Limited  \n",
       " 226             Federal University, Lokoja, Kogi State  \n",
       " 227                                                NaN  \n",
       " \n",
       " [228 rows x 4 columns]]"
      ]
     },
     "execution_count": 5,
     "metadata": {},
     "output_type": "execute_result"
    }
   ],
   "source": [
    "table"
   ]
  },
  {
   "cell_type": "code",
   "execution_count": 6,
   "metadata": {},
   "outputs": [
    {
     "data": {
      "text/plain": [
       "1"
      ]
     },
     "execution_count": 6,
     "metadata": {},
     "output_type": "execute_result"
    }
   ],
   "source": [
    "len(table)"
   ]
  },
  {
   "cell_type": "code",
   "execution_count": 7,
   "metadata": {},
   "outputs": [
    {
     "data": {
      "text/html": [
       "<div>\n",
       "<style scoped>\n",
       "    .dataframe tbody tr th:only-of-type {\n",
       "        vertical-align: middle;\n",
       "    }\n",
       "\n",
       "    .dataframe tbody tr th {\n",
       "        vertical-align: top;\n",
       "    }\n",
       "\n",
       "    .dataframe thead th {\n",
       "        text-align: right;\n",
       "    }\n",
       "</style>\n",
       "<table border=\"1\" class=\"dataframe\">\n",
       "  <thead>\n",
       "    <tr style=\"text-align: right;\">\n",
       "      <th></th>\n",
       "      <th>S/N</th>\n",
       "      <th>Full Name</th>\n",
       "      <th>DSN Registration No</th>\n",
       "      <th>School/Workplace</th>\n",
       "    </tr>\n",
       "  </thead>\n",
       "  <tbody>\n",
       "    <tr>\n",
       "      <th>0</th>\n",
       "      <td>1</td>\n",
       "      <td>Yakubu Jafar Ahmadu</td>\n",
       "      <td>DSN/AIB/2019/R001</td>\n",
       "      <td>Ahmadu Bello University, Zaria</td>\n",
       "    </tr>\n",
       "    <tr>\n",
       "      <th>1</th>\n",
       "      <td>2</td>\n",
       "      <td>Kazeem Hakeem</td>\n",
       "      <td>DSN/AIB/2019/R002</td>\n",
       "      <td>Crown Interactive</td>\n",
       "    </tr>\n",
       "    <tr>\n",
       "      <th>2</th>\n",
       "      <td>3</td>\n",
       "      <td>Oshingbesan Adebayo</td>\n",
       "      <td>DSN/AIB/2019/R003</td>\n",
       "      <td>NaN</td>\n",
       "    </tr>\n",
       "    <tr>\n",
       "      <th>3</th>\n",
       "      <td>4</td>\n",
       "      <td>Ibrahim Olagoke</td>\n",
       "      <td>DSN/AIB/2019/R004</td>\n",
       "      <td>Tissec</td>\n",
       "    </tr>\n",
       "    <tr>\n",
       "      <th>4</th>\n",
       "      <td>5</td>\n",
       "      <td>Sarah Adigwe</td>\n",
       "      <td>DSN/AIB/2019/R006</td>\n",
       "      <td>Ladoke Akintola University Of Technology, Ogbo...</td>\n",
       "    </tr>\n",
       "  </tbody>\n",
       "</table>\n",
       "</div>"
      ],
      "text/plain": [
       "   S/N            Full Name DSN Registration No  \\\n",
       "0    1  Yakubu Jafar Ahmadu   DSN/AIB/2019/R001   \n",
       "1    2        Kazeem Hakeem   DSN/AIB/2019/R002   \n",
       "2    3  Oshingbesan Adebayo   DSN/AIB/2019/R003   \n",
       "3    4      Ibrahim Olagoke   DSN/AIB/2019/R004   \n",
       "4    5         Sarah Adigwe   DSN/AIB/2019/R006   \n",
       "\n",
       "                                    School/Workplace  \n",
       "0                     Ahmadu Bello University, Zaria  \n",
       "1                                  Crown Interactive  \n",
       "2                                                NaN  \n",
       "3                                             Tissec  \n",
       "4  Ladoke Akintola University Of Technology, Ogbo...  "
      ]
     },
     "execution_count": 7,
     "metadata": {},
     "output_type": "execute_result"
    }
   ],
   "source": [
    "data = pd.DataFrame(table[0]) \n",
    "data.head()"
   ]
  },
  {
   "cell_type": "code",
   "execution_count": 8,
   "metadata": {},
   "outputs": [
    {
     "data": {
      "text/plain": [
       "(228, 4)"
      ]
     },
     "execution_count": 8,
     "metadata": {},
     "output_type": "execute_result"
    }
   ],
   "source": [
    "data.shape"
   ]
  },
  {
   "cell_type": "code",
   "execution_count": 9,
   "metadata": {},
   "outputs": [
    {
     "data": {
      "text/html": [
       "<div>\n",
       "<style scoped>\n",
       "    .dataframe tbody tr th:only-of-type {\n",
       "        vertical-align: middle;\n",
       "    }\n",
       "\n",
       "    .dataframe tbody tr th {\n",
       "        vertical-align: top;\n",
       "    }\n",
       "\n",
       "    .dataframe thead th {\n",
       "        text-align: right;\n",
       "    }\n",
       "</style>\n",
       "<table border=\"1\" class=\"dataframe\">\n",
       "  <thead>\n",
       "    <tr style=\"text-align: right;\">\n",
       "      <th></th>\n",
       "      <th>School/Workplace</th>\n",
       "    </tr>\n",
       "  </thead>\n",
       "  <tbody>\n",
       "    <tr>\n",
       "      <th>University Of Lagos</th>\n",
       "      <td>28</td>\n",
       "    </tr>\n",
       "    <tr>\n",
       "      <th>Obafemi Awolowo University, Ile-Ife</th>\n",
       "      <td>22</td>\n",
       "    </tr>\n",
       "    <tr>\n",
       "      <th>Ladoke Akintola University Of Technology, Ogbomoso</th>\n",
       "      <td>16</td>\n",
       "    </tr>\n",
       "    <tr>\n",
       "      <th>Ambrose Alli University, Ekpoma</th>\n",
       "      <td>15</td>\n",
       "    </tr>\n",
       "    <tr>\n",
       "      <th>University Of Ibadan</th>\n",
       "      <td>14</td>\n",
       "    </tr>\n",
       "    <tr>\n",
       "      <th>...</th>\n",
       "      <td>...</td>\n",
       "    </tr>\n",
       "    <tr>\n",
       "      <th>Job Seeker</th>\n",
       "      <td>1</td>\n",
       "    </tr>\n",
       "    <tr>\n",
       "      <th>Trinity Home College</th>\n",
       "      <td>1</td>\n",
       "    </tr>\n",
       "    <tr>\n",
       "      <th>Ondo State Office Of Innovation And Partnerships(ION)</th>\n",
       "      <td>1</td>\n",
       "    </tr>\n",
       "    <tr>\n",
       "      <th>Upwork</th>\n",
       "      <td>1</td>\n",
       "    </tr>\n",
       "    <tr>\n",
       "      <th>Parallelscore</th>\n",
       "      <td>1</td>\n",
       "    </tr>\n",
       "  </tbody>\n",
       "</table>\n",
       "<p>81 rows × 1 columns</p>\n",
       "</div>"
      ],
      "text/plain": [
       "                                                    School/Workplace\n",
       "University Of Lagos                                               28\n",
       "Obafemi Awolowo University, Ile-Ife                               22\n",
       "Ladoke Akintola University Of Technology, Ogbomoso                16\n",
       "Ambrose Alli University, Ekpoma                                   15\n",
       "University Of Ibadan                                              14\n",
       "...                                                              ...\n",
       "Job Seeker                                                         1\n",
       "Trinity Home College                                               1\n",
       "Ondo State Office Of Innovation And Partnership...                 1\n",
       "Upwork                                                             1\n",
       "Parallelscore                                                      1\n",
       "\n",
       "[81 rows x 1 columns]"
      ]
     },
     "execution_count": 9,
     "metadata": {},
     "output_type": "execute_result"
    }
   ],
   "source": [
    "data['School/Workplace'].value_counts().to_frame()"
   ]
  },
  {
   "cell_type": "code",
   "execution_count": 10,
   "metadata": {},
   "outputs": [],
   "source": [
    "import matplotlib.pyplot as plt\n",
    "import seaborn as sns\n",
    "plt.style.use(\"seaborn\")"
   ]
  },
  {
   "cell_type": "code",
   "execution_count": 15,
   "metadata": {},
   "outputs": [],
   "source": [
    "##nlargest is a pandas method used to select the n largest values from a dataframe or series\n",
    "top_10 = data[\"School/Workplace\"].value_counts().to_frame().\\\n",
    "nlargest(10, \"School/Workplace\")"
   ]
  },
  {
   "cell_type": "code",
   "execution_count": 16,
   "metadata": {},
   "outputs": [],
   "source": [
    "top_10 = data[\"School/Workplace\"].value_counts().to_frame().head(10)"
   ]
  },
  {
   "cell_type": "code",
   "execution_count": 17,
   "metadata": {},
   "outputs": [
    {
     "data": {
      "text/html": [
       "<div>\n",
       "<style scoped>\n",
       "    .dataframe tbody tr th:only-of-type {\n",
       "        vertical-align: middle;\n",
       "    }\n",
       "\n",
       "    .dataframe tbody tr th {\n",
       "        vertical-align: top;\n",
       "    }\n",
       "\n",
       "    .dataframe thead th {\n",
       "        text-align: right;\n",
       "    }\n",
       "</style>\n",
       "<table border=\"1\" class=\"dataframe\">\n",
       "  <thead>\n",
       "    <tr style=\"text-align: right;\">\n",
       "      <th></th>\n",
       "      <th>School/Workplace</th>\n",
       "    </tr>\n",
       "  </thead>\n",
       "  <tbody>\n",
       "    <tr>\n",
       "      <th>University Of Lagos</th>\n",
       "      <td>28</td>\n",
       "    </tr>\n",
       "    <tr>\n",
       "      <th>Obafemi Awolowo University, Ile-Ife</th>\n",
       "      <td>22</td>\n",
       "    </tr>\n",
       "    <tr>\n",
       "      <th>Ladoke Akintola University Of Technology, Ogbomoso</th>\n",
       "      <td>16</td>\n",
       "    </tr>\n",
       "    <tr>\n",
       "      <th>Ambrose Alli University, Ekpoma</th>\n",
       "      <td>15</td>\n",
       "    </tr>\n",
       "    <tr>\n",
       "      <th>University Of Ibadan</th>\n",
       "      <td>14</td>\n",
       "    </tr>\n",
       "    <tr>\n",
       "      <th>University Of Benin</th>\n",
       "      <td>6</td>\n",
       "    </tr>\n",
       "    <tr>\n",
       "      <th>Federal University Of Technology, Akure</th>\n",
       "      <td>5</td>\n",
       "    </tr>\n",
       "    <tr>\n",
       "      <th>Federal University Of Agriculture, Abeokuta</th>\n",
       "      <td>4</td>\n",
       "    </tr>\n",
       "    <tr>\n",
       "      <th>Lagos State University, Ojo</th>\n",
       "      <td>4</td>\n",
       "    </tr>\n",
       "    <tr>\n",
       "      <th>Nigeria Police Academy Wudil</th>\n",
       "      <td>4</td>\n",
       "    </tr>\n",
       "  </tbody>\n",
       "</table>\n",
       "</div>"
      ],
      "text/plain": [
       "                                                    School/Workplace\n",
       "University Of Lagos                                               28\n",
       "Obafemi Awolowo University, Ile-Ife                               22\n",
       "Ladoke Akintola University Of Technology, Ogbomoso                16\n",
       "Ambrose Alli University, Ekpoma                                   15\n",
       "University Of Ibadan                                              14\n",
       "University Of Benin                                                6\n",
       "Federal University Of Technology, Akure                            5\n",
       "Federal University Of Agriculture, Abeokuta                        4\n",
       "Lagos State University, Ojo                                        4\n",
       "Nigeria Police Academy Wudil                                       4"
      ]
     },
     "execution_count": 17,
     "metadata": {},
     "output_type": "execute_result"
    }
   ],
   "source": [
    "top_10"
   ]
  },
  {
   "cell_type": "markdown",
   "metadata": {},
   "source": [
    "### CHARTS TO SHOW MOST REPRESENTED INSTITUTIONS IN THE BOOTCAMP"
   ]
  },
  {
   "cell_type": "code",
   "execution_count": 21,
   "metadata": {
    "scrolled": false
   },
   "outputs": [
    {
     "data": {
      "text/plain": [
       "<Figure size 720x360 with 0 Axes>"
      ]
     },
     "metadata": {},
     "output_type": "display_data"
    },
    {
     "data": {
      "image/png": "[encoded data removed]",
      "text/plain": [
       "<Figure size 576x396 with 1 Axes>"
      ]
     },
     "metadata": {},
     "output_type": "display_data"
    }
   ],
   "source": [
    "plt.figure(figsize=(10,5),tight_layout=True)\n",
    "color = sns.color_palette('deep')[0]\n",
    "top_10.plot(kind ='bar', color = 'green')\n",
    "plt.legend(\"\")\n",
    "plt.xlabel('Institutions')\n",
    "plt.ylabel('Number of Participant')\n",
    "plt.title('Top ten Well Represented Institutions in the DSN Bootcamp',fontsize=15, weight = 'bold')\n",
    "plt.show();"
   ]
  },
  {
   "cell_type": "markdown",
   "metadata": {},
   "source": [
    "From the chart above, Top Federal institutions in the country makes this list, it is evident that the University of Lagos (Unilag) tops the list. the most represented Institutions are majorly Universities from the South-Western region of the country."
   ]
  },
  {
   "cell_type": "markdown",
   "metadata": {},
   "source": [
    "#### **Credits**: [Ezekiel Adebayo Ogundepo](https://sites.google.com/aims.ac.rw/gbganalyst)"
   ]
  }
 ],
 "metadata": {
  "kernelspec": {
   "display_name": "Python 3",
   "language": "python",
   "name": "python3"
  },
  "language_info": {
   "codemirror_mode": {
    "name": "ipython",
    "version": 3
   },
   "file_extension": ".py",
   "mimetype": "text/x-python",
   "name": "python",
   "nbconvert_exporter": "python",
   "pygments_lexer": "ipython3",
   "version": "3.8.5"
  }
 },
 "nbformat": 4,
 "nbformat_minor": 4
}
